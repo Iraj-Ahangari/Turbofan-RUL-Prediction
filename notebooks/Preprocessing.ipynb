{
 "cells": [
  {
   "cell_type": "code",
   "execution_count": 1,
   "id": "f303b634-aba1-41e7-9383-30d5c807b5c0",
   "metadata": {},
   "outputs": [],
   "source": [
    "# This notebook is used for preprocessing the data"
   ]
  },
  {
   "cell_type": "markdown",
   "id": "8d129e92-3014-4e86-a342-85edaa16a558",
   "metadata": {},
   "source": [
    "### Importing Libraries\n",
    "This script imports essential Python libraries for data analysis and visualization. `Pandas` and `NumPy` are used for data manipulation, `h5py` for handling HDF5 files, and `matplotlib` and `seaborn` for plotting. `scipy.stats` provides statistical tools, crucial for insightful data exploration in machine learning projects."
   ]
  },
  {
   "cell_type": "code",
   "execution_count": 1,
   "id": "8a05258e-9177-4055-819e-b24638f37208",
   "metadata": {},
   "outputs": [],
   "source": [
    "import pandas as pd\n",
    "import numpy as np\n",
    "import h5py\n",
    "import matplotlib.pyplot as plt\n",
    "import seaborn as sns\n",
    "from scipy import stats\n",
    "\n"
   ]
  },
  {
   "cell_type": "markdown",
   "id": "cea368d2-cb06-40c2-bd27-43bba4b36971",
   "metadata": {},
   "source": [
    "### Loading and Reading the Data\n",
    "The Python script efficiently loads multiple datasets from an HDF5 file, crucial for machine learning in predictive maintenance. It handles development and test sets, including operational settings, sensor readings, and RUL values. This structured data loading approach is vital for analysis and model training in aerospace prognostics."
   ]
  },
  {
   "cell_type": "code",
   "execution_count": 15,
   "id": "766adfb4-07f6-423b-beed-50ac40ce0075",
   "metadata": {},
   "outputs": [],
   "source": [
    "\n",
    "\n",
    "file_name = '/mnt/e/PdM/DataX/NASA/N-CMAPSS_DS01-005.h5'\n",
    "\n",
    "# Load data\n",
    "with h5py.File(file_name, 'r') as hdf:\n",
    "        # Development set\n",
    "        W_dev = np.array(hdf.get('W_dev'))             # W\n",
    "        X_s_dev = np.array(hdf.get('X_s_dev'))         # X_s\n",
    "        X_v_dev = np.array(hdf.get('X_v_dev'))         # X_v\n",
    "        T_dev = np.array(hdf.get('T_dev'))             # T\n",
    "        Y_dev = np.array(hdf.get('Y_dev'))             # RUL  \n",
    "        A_dev = np.array(hdf.get('A_dev'))             # Auxiliary\n",
    "\n",
    "        # Test set\n",
    "        W_test = np.array(hdf.get('W_test'))           # W\n",
    "        X_s_test = np.array(hdf.get('X_s_test'))       # X_s\n",
    "        X_v_test = np.array(hdf.get('X_v_test'))       # X_v\n",
    "        T_test = np.array(hdf.get('T_test'))           # T\n",
    "        Y_test = np.array(hdf.get('Y_test'))           # RUL  \n",
    "        A_test = np.array(hdf.get('A_test'))           # Auxiliary\n",
    "        \n",
    "        # Varnams\n",
    "        W_var = np.array(hdf.get('W_var'))\n",
    "        X_s_var = np.array(hdf.get('X_s_var'))  \n",
    "        X_v_var = np.array(hdf.get('X_v_var')) \n",
    "        T_var = np.array(hdf.get('T_var'))\n",
    "        A_var = np.array(hdf.get('A_var'))\n",
    "        \n",
    "        # from np.array to list dtype U4/U5\n",
    "        W_var = list(np.array(W_var, dtype='U20'))\n",
    "        X_s_var = list(np.array(X_s_var, dtype='U20'))  \n",
    "        X_v_var = list(np.array(X_v_var, dtype='U20')) \n",
    "        T_var = list(np.array(T_var, dtype='U20'))\n",
    "        A_var = list(np.array(A_var, dtype='U20'))\n"
   ]
  },
  {
   "cell_type": "markdown",
   "id": "b67d4b22-9747-4c99-b5a0-e719437939ee",
   "metadata": {},
   "source": [
    "### Building Dataframes\n",
    "This script converts numpy arrays (`W_dev`, `X_s_dev`, `X_v_dev`, `T_dev`, `Y_dev`, `A_dev`, and their test counterparts) into pandas DataFrames, assigning appropriate column names for each. It's an essential step in organizing and preparing the data for further analysis and machine learning modeling in predictive maintenance."
   ]
  },
  {
   "cell_type": "code",
   "execution_count": 23,
   "id": "f506335f-995e-4c07-95a2-684db4566be8",
   "metadata": {},
   "outputs": [],
   "source": [
    "W_dev_df = pd.DataFrame(W_dev, columns=W_var)\n",
    "X_s_dev_df = pd.DataFrame(X_s_dev, columns=X_s_var)\n",
    "X_v_dev_df = pd.DataFrame(X_v_dev, columns=X_v_var)\n",
    "T_dev_df = pd.DataFrame(T_dev, columns=T_var)\n",
    "Y_dev_df = pd.DataFrame(Y_dev, columns=['RUL'])\n",
    "A_dev_df = pd.DataFrame(A_dev, columns=A_var)\n",
    "\n",
    "W_test_df = pd.DataFrame(W_test, columns=W_var)\n",
    "X_s_test_df = pd.DataFrame(X_s_test, columns=X_s_var)\n",
    "X_v_test_df = pd.DataFrame(X_v_test, columns=X_v_var)\n",
    "T_test_df = pd.DataFrame(T_test, columns=T_var)\n",
    "Y_test_df = pd.DataFrame(Y_test, columns=['RUL'])\n",
    "A_test_df = pd.DataFrame(A_test, columns=A_var)\n"
   ]
  },
  {
   "cell_type": "markdown",
   "id": "c7d464de-54e9-43af-a72c-728334a3afa7",
   "metadata": {},
   "source": [
    "### Creating Development and Test Dataframes\n",
    "The script merges individual feature sets into comprehensive `train_df` and `test_df`, crucial for developing and evaluating machine learning models in predictive maintenance."
   ]
  },
  {
   "cell_type": "code",
   "execution_count": 25,
   "id": "416d48ca-d41d-4056-bf4b-d42edbc37209",
   "metadata": {},
   "outputs": [],
   "source": [
    "# Concatenate the development datasets to create the training DataFrame\n",
    "train_df = pd.concat([W_dev_df, X_s_dev_df, X_v_dev_df, T_dev_df, A_dev_df, Y_dev_df], axis=1)\n",
    "\n",
    "# Concatenate the test datasets to create the test DataFrame\n",
    "test_df = pd.concat([W_test_df, X_s_test_df, X_v_test_df, T_test_df, A_test_df, Y_test_df], axis=1)\n"
   ]
  },
  {
   "cell_type": "markdown",
   "id": "950b89cb-84f0-4846-9802-ad6379c3d378",
   "metadata": {},
   "source": [
    "Shape and Size of DataFrames"
   ]
  },
  {
   "cell_type": "code",
   "execution_count": 30,
   "id": "f570a2bd-83a0-49ac-868c-04229b1d7802",
   "metadata": {},
   "outputs": [
    {
     "name": "stdout",
     "output_type": "stream",
     "text": [
      "Train DataFrame Shape: (4906636, 47)\n",
      "Test DataFrame Shape: (2735232, 47)\n"
     ]
    }
   ],
   "source": [
    "#### Shape and Size of DataFramesn\r\n",
    "print(\"Train DataFrame Shape:\", train_df.shape)\r\n",
    "print(\"Test DataFrame Shape:\", test_df.shape)\r\n"
   ]
  },
  {
   "cell_type": "markdown",
   "id": "849430f4-e8f7-40ee-a3a2-9a3e8537c242",
   "metadata": {},
   "source": [
    "Data Types in Each Column"
   ]
  },
  {
   "cell_type": "code",
   "execution_count": 31,
   "id": "86841448-1d81-49af-819a-75f812ce7135",
   "metadata": {},
   "outputs": [
    {
     "name": "stdout",
     "output_type": "stream",
     "text": [
      "Data Types in Train DataFrame:\n",
      " alt             float64\n",
      "Mach            float64\n",
      "TRA             float64\n",
      "T2              float64\n",
      "T24             float64\n",
      "T30             float64\n",
      "T48             float64\n",
      "T50             float64\n",
      "P15             float64\n",
      "P2              float64\n",
      "P21             float64\n",
      "P24             float64\n",
      "Ps30            float64\n",
      "P40             float64\n",
      "P50             float64\n",
      "Nf              float64\n",
      "Nc              float64\n",
      "Wf              float64\n",
      "T40             float64\n",
      "P30             float64\n",
      "P45             float64\n",
      "W21             float64\n",
      "W22             float64\n",
      "W25             float64\n",
      "W31             float64\n",
      "W32             float64\n",
      "W48             float64\n",
      "W50             float64\n",
      "SmFan           float64\n",
      "SmLPC           float64\n",
      "SmHPC           float64\n",
      "phi             float64\n",
      "fan_eff_mod     float64\n",
      "fan_flow_mod    float64\n",
      "LPC_eff_mod     float64\n",
      "LPC_flow_mod    float64\n",
      "HPC_eff_mod     float64\n",
      "HPC_flow_mod    float64\n",
      "HPT_eff_mod     float64\n",
      "HPT_flow_mod    float64\n",
      "LPT_eff_mod     float64\n",
      "LPT_flow_mod    float64\n",
      "unit            float64\n",
      "cycle           float64\n",
      "Fc              float64\n",
      "hs              float64\n",
      "RUL               int64\n",
      "dtype: object\n",
      "Data Types in Test DataFrame:\n",
      " alt             float64\n",
      "Mach            float64\n",
      "TRA             float64\n",
      "T2              float64\n",
      "T24             float64\n",
      "T30             float64\n",
      "T48             float64\n",
      "T50             float64\n",
      "P15             float64\n",
      "P2              float64\n",
      "P21             float64\n",
      "P24             float64\n",
      "Ps30            float64\n",
      "P40             float64\n",
      "P50             float64\n",
      "Nf              float64\n",
      "Nc              float64\n",
      "Wf              float64\n",
      "T40             float64\n",
      "P30             float64\n",
      "P45             float64\n",
      "W21             float64\n",
      "W22             float64\n",
      "W25             float64\n",
      "W31             float64\n",
      "W32             float64\n",
      "W48             float64\n",
      "W50             float64\n",
      "SmFan           float64\n",
      "SmLPC           float64\n",
      "SmHPC           float64\n",
      "phi             float64\n",
      "fan_eff_mod     float64\n",
      "fan_flow_mod    float64\n",
      "LPC_eff_mod     float64\n",
      "LPC_flow_mod    float64\n",
      "HPC_eff_mod     float64\n",
      "HPC_flow_mod    float64\n",
      "HPT_eff_mod     float64\n",
      "HPT_flow_mod    float64\n",
      "LPT_eff_mod     float64\n",
      "LPT_flow_mod    float64\n",
      "unit            float64\n",
      "cycle           float64\n",
      "Fc              float64\n",
      "hs              float64\n",
      "RUL               int64\n",
      "dtype: object\n"
     ]
    }
   ],
   "source": [
    "#### Data Types in Each Column\n",
    "\n",
    "print(\"Data Types in Train DataFrame:\\n\", train_df.dtypes)\n",
    "print(\"Data Types in Test DataFrame:\\n\", test_df.dtypes)\n"
   ]
  },
  {
   "cell_type": "markdown",
   "id": "72e18b3b-486c-4d2b-a3ec-39d3d05d93e0",
   "metadata": {},
   "source": [
    "Descriptive Statistics"
   ]
  },
  {
   "cell_type": "code",
   "execution_count": 32,
   "id": "daa75091-4196-4b67-b060-a1da727f1f83",
   "metadata": {},
   "outputs": [
    {
     "name": "stdout",
     "output_type": "stream",
     "text": [
      "Train DataFrame Statistics:\n",
      "                 alt          Mach           TRA            T2           T24  \\\n",
      "count  4.906636e+06  4.906636e+06  4.906636e+06  4.906636e+06  4.906636e+06   \n",
      "mean   1.568371e+04  5.384156e-01  6.059576e+01  4.902042e+02  5.696602e+02   \n",
      "std    8.007308e+03  1.194006e-01  1.840391e+01  1.960585e+01  2.085329e+01   \n",
      "min    3.001000e+03  3.150000e-04  2.355452e+01  4.213779e+02  4.841972e+02   \n",
      "25%    9.206000e+03  4.440240e-01  4.684537e+01  4.744894e+02  5.548824e+02   \n",
      "50%    1.465400e+04  5.481000e-01  6.539016e+01  4.940213e+02  5.672901e+02   \n",
      "75%    2.235100e+04  6.383160e-01  7.707953e+01  5.063441e+02  5.831270e+02   \n",
      "max    3.503300e+04  7.492590e-01  8.876890e+01  5.343834e+02  6.340001e+02   \n",
      "\n",
      "                T30           T48           T50           P15            P2  \\\n",
      "count  4.906636e+06  4.906636e+06  4.906636e+06  4.906636e+06  4.906636e+06   \n",
      "mean   1.330678e+03  1.640812e+03  1.129691e+03  1.293220e+01  1.008869e+01   \n",
      "std    6.813023e+01  1.238026e+02  6.226462e+01  2.847409e+00  2.394340e+00   \n",
      "min    1.069983e+03  9.550565e+02  6.984278e+02  5.917596e+00  4.373175e+00   \n",
      "25%    1.285256e+03  1.556507e+03  1.086167e+03  1.052334e+01  7.996442e+00   \n",
      "50%    1.326394e+03  1.649059e+03  1.119625e+03  1.309985e+01  1.030762e+01   \n",
      "75%    1.369856e+03  1.719067e+03  1.164322e+03  1.517187e+01  1.197260e+01   \n",
      "max    1.525869e+03  1.986323e+03  1.357899e+03  2.044808e+01  1.568410e+01   \n",
      "\n",
      "       ...  HPC_flow_mod   HPT_eff_mod  HPT_flow_mod  LPT_eff_mod  \\\n",
      "count  ...     4906636.0  4.906636e+06     4906636.0    4906636.0   \n",
      "mean   ...           0.0 -3.916843e-03           0.0          0.0   \n",
      "std    ...           0.0  4.130068e-03           0.0          0.0   \n",
      "min    ...           0.0 -1.866833e-02           0.0          0.0   \n",
      "25%    ...           0.0 -5.103756e-03           0.0          0.0   \n",
      "50%    ...           0.0 -2.021750e-03           0.0          0.0   \n",
      "75%    ...           0.0 -1.130950e-03           0.0          0.0   \n",
      "max    ...           0.0 -1.173363e-04           0.0          0.0   \n",
      "\n",
      "       LPT_flow_mod          unit         cycle            Fc            hs  \\\n",
      "count     4906636.0  4.906636e+06  4.906636e+06  4.906636e+06  4.906636e+06   \n",
      "mean            0.0  3.727439e+00  4.550336e+01  2.301987e+00  2.601379e-01   \n",
      "std             0.0  1.643444e+00  2.663813e+01  7.458150e-01  4.387097e-01   \n",
      "min             0.0  1.000000e+00  1.000000e+00  1.000000e+00  0.000000e+00   \n",
      "25%             0.0  2.000000e+00  2.300000e+01  2.000000e+00  0.000000e+00   \n",
      "50%             0.0  4.000000e+00  4.500000e+01  2.000000e+00  0.000000e+00   \n",
      "75%             0.0  5.000000e+00  6.700000e+01  3.000000e+00  1.000000e+00   \n",
      "max             0.0  6.000000e+00  1.000000e+02  3.000000e+00  1.000000e+00   \n",
      "\n",
      "                RUL  \n",
      "count  4.906636e+06  \n",
      "mean   4.483609e+01  \n",
      "std    2.663873e+01  \n",
      "min    0.000000e+00  \n",
      "25%    2.200000e+01  \n",
      "50%    4.400000e+01  \n",
      "75%    6.700000e+01  \n",
      "max    9.900000e+01  \n",
      "\n",
      "[8 rows x 47 columns]\n",
      "Test DataFrame Statistics:\n",
      "                 alt          Mach           TRA            T2           T24  \\\n",
      "count  2.735232e+06  2.735232e+06  2.735232e+06  2.735232e+06  2.735232e+06   \n",
      "mean   1.502441e+04  5.299399e-01  5.974653e+01  4.918531e+02  5.708330e+02   \n",
      "std    7.975528e+03  1.188326e-01  1.846842e+01  1.957186e+01  2.095190e+01   \n",
      "min    3.001000e+03  3.150000e-04  2.416975e+01  4.356696e+02  4.998620e+02   \n",
      "25%    8.497000e+03  4.381020e-01  4.596647e+01  4.753334e+02  5.560443e+02   \n",
      "50%    1.325200e+04  5.351220e-01  6.196245e+01  4.971539e+02  5.686500e+02   \n",
      "75%    2.199800e+04  6.318900e-01  7.664008e+01  5.075758e+02  5.843814e+02   \n",
      "max    3.303500e+04  7.420140e-01  8.692321e+01  5.251645e+02  6.338701e+02   \n",
      "\n",
      "                T30           T48           T50           P15            P2  \\\n",
      "count  2.735232e+06  2.735232e+06  2.735232e+06  2.735232e+06  2.735232e+06   \n",
      "mean   1.331923e+03  1.641426e+03  1.132832e+03  1.316666e+01  1.029477e+01   \n",
      "std    6.865011e+01  1.248717e+02  6.244887e+01  2.858544e+00  2.403783e+00   \n",
      "min    1.069545e+03  9.592454e+02  7.015279e+02  6.932103e+00  5.068978e+00   \n",
      "25%    1.283948e+03  1.552603e+03  1.088869e+03  1.062717e+01  8.106429e+00   \n",
      "50%    1.327294e+03  1.650432e+03  1.123293e+03  1.350851e+01  1.069316e+01   \n",
      "75%    1.371301e+03  1.720248e+03  1.167395e+03  1.537211e+01  1.216613e+01   \n",
      "max    1.526507e+03  1.974299e+03  1.336970e+03  2.044748e+01  1.476789e+01   \n",
      "\n",
      "       ...  HPC_flow_mod   HPT_eff_mod  HPT_flow_mod  LPT_eff_mod  \\\n",
      "count  ...     2735232.0  2.735232e+06     2735232.0    2735232.0   \n",
      "mean   ...           0.0 -4.212617e-03           0.0          0.0   \n",
      "std    ...           0.0  4.416413e-03           0.0          0.0   \n",
      "min    ...           0.0 -1.880555e-02           0.0          0.0   \n",
      "25%    ...           0.0 -5.751490e-03           0.0          0.0   \n",
      "50%    ...           0.0 -2.122196e-03           0.0          0.0   \n",
      "75%    ...           0.0 -1.195400e-03           0.0          0.0   \n",
      "max    ...           0.0 -2.076690e-04           0.0          0.0   \n",
      "\n",
      "       LPT_flow_mod          unit         cycle            Fc            hs  \\\n",
      "count     2735232.0  2.735232e+06  2.735232e+06  2.735232e+06  2.735232e+06   \n",
      "mean            0.0  8.855663e+00  4.277444e+01  2.163204e+00  2.845751e-01   \n",
      "std             0.0  1.131892e+00  2.453449e+01  8.250923e-01  4.512119e-01   \n",
      "min             0.0  7.000000e+00  1.000000e+00  1.000000e+00  0.000000e+00   \n",
      "25%             0.0  8.000000e+00  2.200000e+01  1.000000e+00  0.000000e+00   \n",
      "50%             0.0  9.000000e+00  4.200000e+01  2.000000e+00  0.000000e+00   \n",
      "75%             0.0  1.000000e+01  6.400000e+01  3.000000e+00  1.000000e+00   \n",
      "max             0.0  1.000000e+01  9.000000e+01  3.000000e+00  1.000000e+00   \n",
      "\n",
      "                RUL  \n",
      "count  2.735232e+06  \n",
      "mean   4.216475e+01  \n",
      "std    2.446995e+01  \n",
      "min    0.000000e+00  \n",
      "25%    2.100000e+01  \n",
      "50%    4.300000e+01  \n",
      "75%    6.300000e+01  \n",
      "max    8.900000e+01  \n",
      "\n",
      "[8 rows x 47 columns]\n"
     ]
    }
   ],
   "source": [
    "#### Descriptive Statistics\r",
    "\r\n",
    "print(\"Train DataFrame Statistics:\\n\", train_df.describe())\r\n",
    "print(\"Test DataFrame Statistics:\\n\", test_df.describe())\r\n"
   ]
  },
  {
   "cell_type": "markdown",
   "id": "11afa3f9-2522-45a7-b60f-0af8acb93c6a",
   "metadata": {},
   "source": [
    "Checking for Null Values"
   ]
  },
  {
   "cell_type": "code",
   "execution_count": 33,
   "id": "46ad8033-005d-4098-840d-f9c001b0e6fc",
   "metadata": {},
   "outputs": [
    {
     "name": "stdout",
     "output_type": "stream",
     "text": [
      "Null Values in Train DataFrame:\n",
      " alt             0\n",
      "Mach            0\n",
      "TRA             0\n",
      "T2              0\n",
      "T24             0\n",
      "T30             0\n",
      "T48             0\n",
      "T50             0\n",
      "P15             0\n",
      "P2              0\n",
      "P21             0\n",
      "P24             0\n",
      "Ps30            0\n",
      "P40             0\n",
      "P50             0\n",
      "Nf              0\n",
      "Nc              0\n",
      "Wf              0\n",
      "T40             0\n",
      "P30             0\n",
      "P45             0\n",
      "W21             0\n",
      "W22             0\n",
      "W25             0\n",
      "W31             0\n",
      "W32             0\n",
      "W48             0\n",
      "W50             0\n",
      "SmFan           0\n",
      "SmLPC           0\n",
      "SmHPC           0\n",
      "phi             0\n",
      "fan_eff_mod     0\n",
      "fan_flow_mod    0\n",
      "LPC_eff_mod     0\n",
      "LPC_flow_mod    0\n",
      "HPC_eff_mod     0\n",
      "HPC_flow_mod    0\n",
      "HPT_eff_mod     0\n",
      "HPT_flow_mod    0\n",
      "LPT_eff_mod     0\n",
      "LPT_flow_mod    0\n",
      "unit            0\n",
      "cycle           0\n",
      "Fc              0\n",
      "hs              0\n",
      "RUL             0\n",
      "dtype: int64\n",
      "Null Values in Test DataFrame:\n",
      " alt             0\n",
      "Mach            0\n",
      "TRA             0\n",
      "T2              0\n",
      "T24             0\n",
      "T30             0\n",
      "T48             0\n",
      "T50             0\n",
      "P15             0\n",
      "P2              0\n",
      "P21             0\n",
      "P24             0\n",
      "Ps30            0\n",
      "P40             0\n",
      "P50             0\n",
      "Nf              0\n",
      "Nc              0\n",
      "Wf              0\n",
      "T40             0\n",
      "P30             0\n",
      "P45             0\n",
      "W21             0\n",
      "W22             0\n",
      "W25             0\n",
      "W31             0\n",
      "W32             0\n",
      "W48             0\n",
      "W50             0\n",
      "SmFan           0\n",
      "SmLPC           0\n",
      "SmHPC           0\n",
      "phi             0\n",
      "fan_eff_mod     0\n",
      "fan_flow_mod    0\n",
      "LPC_eff_mod     0\n",
      "LPC_flow_mod    0\n",
      "HPC_eff_mod     0\n",
      "HPC_flow_mod    0\n",
      "HPT_eff_mod     0\n",
      "HPT_flow_mod    0\n",
      "LPT_eff_mod     0\n",
      "LPT_flow_mod    0\n",
      "unit            0\n",
      "cycle           0\n",
      "Fc              0\n",
      "hs              0\n",
      "RUL             0\n",
      "dtype: int64\n"
     ]
    }
   ],
   "source": [
    "#### Checking for Null Values\n",
    "\n",
    "print(\"Null Values in Train DataFrame:\\n\", train_df.isnull().sum())\n",
    "print(\"Null Values in Test DataFrame:\\n\", test_df.isnull().sum())\n"
   ]
  },
  {
   "cell_type": "code",
   "execution_count": null,
   "id": "fa56935b-749a-455a-915f-50ba4919413b",
   "metadata": {},
   "outputs": [],
   "source": [
    "print(df.describe())\n"
   ]
  },
  {
   "cell_type": "code",
   "execution_count": null,
   "id": "d59557a5-4cdc-4ed1-8343-25b3f80b03c2",
   "metadata": {},
   "outputs": [],
   "source": []
  },
  {
   "cell_type": "code",
   "execution_count": null,
   "id": "9a53a777-fff7-44d9-9c03-98f6dd1d383e",
   "metadata": {},
   "outputs": [],
   "source": []
  },
  {
   "cell_type": "code",
   "execution_count": null,
   "id": "b3f384b6-ea23-4bbc-b85d-68b905383a58",
   "metadata": {},
   "outputs": [],
   "source": [
    "stats.shapiro(df['sensor_column'])  # \n"
   ]
  },
  {
   "cell_type": "code",
   "execution_count": null,
   "id": "c0afd19b-ef99-4c63-a948-202abb848f82",
   "metadata": {},
   "outputs": [],
   "source": [
    "correlation_matrix = df.corr()\n",
    "sns.heatmap(correlation_matrix, annot=True)\n",
    "plt.show()\n"
   ]
  },
  {
   "cell_type": "code",
   "execution_count": null,
   "id": "12330a4b-15bc-4b87-9b4f-da132bfd21c9",
   "metadata": {},
   "outputs": [],
   "source": [
    "sns.histplot(df['sensor_column'], kde=True)\n",
    "plt.show()\n"
   ]
  },
  {
   "cell_type": "code",
   "execution_count": null,
   "id": "77f702de-0b7d-4008-a058-77e63c49fe19",
   "metadata": {},
   "outputs": [],
   "source": [
    "plt.plot(df['time_column'], df['sensor_column'])  # جایگزین 'time_column' و 'sensor_column' با نام ستون‌های مورد نظر\n",
    "plt.show()\n"
   ]
  },
  {
   "cell_type": "code",
   "execution_count": null,
   "id": "e51628a6-bebb-46d4-af1c-01721d8ee819",
   "metadata": {},
   "outputs": [],
   "source": [
    "sns.boxplot(data=df['sensor_column'])\n",
    "plt.show()\n"
   ]
  },
  {
   "cell_type": "code",
   "execution_count": null,
   "id": "42c2e83b-0411-4c8b-b357-c553503d454f",
   "metadata": {},
   "outputs": [],
   "source": [
    "from statsmodels.graphics.tsaplots import plot_acf, plot_pacf\n",
    "\n",
    "plot_acf(df['sensor_column'])\n",
    "plot_pacf(df['sensor_column'])\n",
    "plt.show()\n"
   ]
  }
 ],
 "metadata": {
  "kernelspec": {
   "display_name": "Python 3 (ipykernel)",
   "language": "python",
   "name": "python3"
  },
  "language_info": {
   "codemirror_mode": {
    "name": "ipython",
    "version": 3
   },
   "file_extension": ".py",
   "mimetype": "text/x-python",
   "name": "python",
   "nbconvert_exporter": "python",
   "pygments_lexer": "ipython3",
   "version": "3.10.13"
  }
 },
 "nbformat": 4,
 "nbformat_minor": 5
}
