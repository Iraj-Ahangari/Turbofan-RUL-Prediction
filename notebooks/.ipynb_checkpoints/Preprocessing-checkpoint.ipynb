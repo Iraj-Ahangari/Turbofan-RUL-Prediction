{
 "cells": [
  {
   "cell_type": "code",
   "execution_count": 1,
   "id": "f303b634-aba1-41e7-9383-30d5c807b5c0",
   "metadata": {},
   "outputs": [],
   "source": [
    "# This notebook is used for preprocessing the data"
   ]
  },
  {
   "cell_type": "code",
   "execution_count": 2,
   "id": "8a05258e-9177-4055-819e-b24638f37208",
   "metadata": {},
   "outputs": [],
   "source": [
    "import pandas as pd\n",
    "import numpy as np\n",
    "import matplotlib.pyplot as plt\n",
    "import seaborn as sns\n",
    "from scipy import stats\n",
    "\n"
   ]
  },
  {
   "cell_type": "code",
   "execution_count": null,
   "id": "8686280b-69ff-4f39-b62f-0e33c632b208",
   "metadata": {},
   "outputs": [],
   "source": [
    "df = pd.read_csv('path/to/your/data.csv')  # "
   ]
  },
  {
   "cell_type": "code",
   "execution_count": null,
   "id": "fa56935b-749a-455a-915f-50ba4919413b",
   "metadata": {},
   "outputs": [],
   "source": [
    "print(df.describe())\n"
   ]
  },
  {
   "cell_type": "code",
   "execution_count": null,
   "id": "b3f384b6-ea23-4bbc-b85d-68b905383a58",
   "metadata": {},
   "outputs": [],
   "source": [
    "stats.shapiro(df['sensor_column'])  # \n"
   ]
  },
  {
   "cell_type": "code",
   "execution_count": null,
   "id": "c0afd19b-ef99-4c63-a948-202abb848f82",
   "metadata": {},
   "outputs": [],
   "source": [
    "correlation_matrix = df.corr()\n",
    "sns.heatmap(correlation_matrix, annot=True)\n",
    "plt.show()\n"
   ]
  },
  {
   "cell_type": "code",
   "execution_count": null,
   "id": "12330a4b-15bc-4b87-9b4f-da132bfd21c9",
   "metadata": {},
   "outputs": [],
   "source": [
    "sns.histplot(df['sensor_column'], kde=True)\n",
    "plt.show()\n"
   ]
  },
  {
   "cell_type": "code",
   "execution_count": null,
   "id": "77f702de-0b7d-4008-a058-77e63c49fe19",
   "metadata": {},
   "outputs": [],
   "source": [
    "plt.plot(df['time_column'], df['sensor_column'])  # جایگزین 'time_column' و 'sensor_column' با نام ستون‌های مورد نظر\n",
    "plt.show()\n"
   ]
  },
  {
   "cell_type": "code",
   "execution_count": null,
   "id": "e51628a6-bebb-46d4-af1c-01721d8ee819",
   "metadata": {},
   "outputs": [],
   "source": [
    "sns.boxplot(data=df['sensor_column'])\n",
    "plt.show()\n"
   ]
  },
  {
   "cell_type": "code",
   "execution_count": null,
   "id": "42c2e83b-0411-4c8b-b357-c553503d454f",
   "metadata": {},
   "outputs": [],
   "source": [
    "from statsmodels.graphics.tsaplots import plot_acf, plot_pacf\n",
    "\n",
    "plot_acf(df['sensor_column'])\n",
    "plot_pacf(df['sensor_column'])\n",
    "plt.show()\n"
   ]
  }
 ],
 "metadata": {
  "kernelspec": {
   "display_name": "Python 3 (ipykernel)",
   "language": "python",
   "name": "python3"
  },
  "language_info": {
   "codemirror_mode": {
    "name": "ipython",
    "version": 3
   },
   "file_extension": ".py",
   "mimetype": "text/x-python",
   "name": "python",
   "nbconvert_exporter": "python",
   "pygments_lexer": "ipython3",
   "version": "3.10.13"
  }
 },
 "nbformat": 4,
 "nbformat_minor": 5
}
